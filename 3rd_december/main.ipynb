{
 "cells": [
  {
   "cell_type": "code",
   "execution_count": 1,
   "metadata": {},
   "outputs": [],
   "source": [
    "with open('input.txt','r') as f:\n",
    "    a = f.read()\n",
    "\n",
    "b = a.split('\\n')"
   ]
  },
  {
   "cell_type": "code",
   "execution_count": 2,
   "metadata": {},
   "outputs": [
    {
     "data": {
      "text/plain": [
       "'..#......###....#...##..#.#....'"
      ]
     },
     "execution_count": 2,
     "metadata": {},
     "output_type": "execute_result"
    }
   ],
   "source": [
    "b[0]"
   ]
  },
  {
   "cell_type": "code",
   "execution_count": 3,
   "metadata": {},
   "outputs": [
    {
     "data": {
      "text/plain": [
       "31"
      ]
     },
     "execution_count": 3,
     "metadata": {},
     "output_type": "execute_result"
    }
   ],
   "source": [
    "len(b[0])"
   ]
  },
  {
   "cell_type": "code",
   "execution_count": 4,
   "metadata": {},
   "outputs": [
    {
     "data": {
      "text/plain": [
       "324"
      ]
     },
     "execution_count": 4,
     "metadata": {},
     "output_type": "execute_result"
    }
   ],
   "source": [
    "len(b)"
   ]
  },
  {
   "cell_type": "code",
   "execution_count": 5,
   "metadata": {},
   "outputs": [
    {
     "data": {
      "text/plain": [
       "''"
      ]
     },
     "execution_count": 5,
     "metadata": {},
     "output_type": "execute_result"
    }
   ],
   "source": [
    "b[323]"
   ]
  },
  {
   "cell_type": "code",
   "execution_count": 6,
   "metadata": {},
   "outputs": [],
   "source": [
    "idx_char = 0\n",
    "cnt_tree = 0\n",
    "for idx_line in range(1,len(b)-1):\n",
    "    idx_char = idx_char + 3\n",
    "    if idx_char > len(b[0])-1:\n",
    "        idx_char = idx_char - len(b[0])\n",
    "    if b[idx_line][idx_char] == '#':\n",
    "        #print(idx_line)\n",
    "        cnt_tree = cnt_tree + 1\n",
    "        #print('Baum')"
   ]
  },
  {
   "cell_type": "code",
   "execution_count": 7,
   "metadata": {},
   "outputs": [
    {
     "data": {
      "text/plain": [
       "262"
      ]
     },
     "execution_count": 7,
     "metadata": {},
     "output_type": "execute_result"
    }
   ],
   "source": [
    "cnt_tree"
   ]
  },
  {
   "cell_type": "code",
   "execution_count": 8,
   "metadata": {},
   "outputs": [
    {
     "name": "stdout",
     "output_type": "stream",
     "text": [
      "2698900776\n"
     ]
    },
    {
     "data": {
      "text/plain": [
       "[78, 262, 66, 69, 29]"
      ]
     },
     "execution_count": 8,
     "metadata": {},
     "output_type": "execute_result"
    }
   ],
   "source": [
    "right = [1, 3, 5, 7, 1]\n",
    "down = [1, 1, 1, 1, 2]\n",
    "cnt_list = []\n",
    "multiplied = 1\n",
    "for idx in range(0,len(right)):\n",
    "    idx_line = 0\n",
    "    idx_char = 0\n",
    "    cnt_tree = 0\n",
    "    for ii in range(0,len(b)-1):\n",
    "        idx_line = idx_line + down[idx]\n",
    "        if idx_line >= len(b)-1:\n",
    "            break\n",
    "        idx_char = idx_char + right[idx]\n",
    "        #print(idx_line)\n",
    "        if idx_char > len(b[0])-1:\n",
    "            idx_char = idx_char - len(b[0])\n",
    "        if b[idx_line][idx_char] == '#':\n",
    "            #print(idx_line)\n",
    "            cnt_tree = cnt_tree + 1\n",
    "            #print('Baum')\n",
    "    cnt_list.append(cnt_tree)\n",
    "    multiplied = multiplied * cnt_tree\n",
    "\n",
    "print(multiplied)\n",
    "cnt_list"
   ]
  }
 ],
 "metadata": {
  "kernelspec": {
   "display_name": "Python 3",
   "language": "python",
   "name": "python3"
  },
  "language_info": {
   "codemirror_mode": {
    "name": "ipython",
    "version": 3
   },
   "file_extension": ".py",
   "mimetype": "text/x-python",
   "name": "python",
   "nbconvert_exporter": "python",
   "pygments_lexer": "ipython3",
   "version": "3.8.2"
  }
 },
 "nbformat": 4,
 "nbformat_minor": 4
}
