{
 "cells": [
  {
   "cell_type": "code",
   "execution_count": 1,
   "metadata": {},
   "outputs": [],
   "source": [
    "import re"
   ]
  },
  {
   "cell_type": "code",
   "execution_count": 2,
   "metadata": {},
   "outputs": [],
   "source": [
    "with open('input.txt','r') as f:\n",
    "    a = f.read()\n",
    "\n",
    "b = a.split('\\n')"
   ]
  },
  {
   "cell_type": "code",
   "execution_count": 3,
   "metadata": {},
   "outputs": [],
   "source": [
    "c = []\n",
    "for elem in b:\n",
    "    #print(elem)\n",
    "    c.append(elem.split(' '))"
   ]
  },
  {
   "cell_type": "code",
   "execution_count": 4,
   "metadata": {},
   "outputs": [],
   "source": [
    "d = []\n",
    "for elem in c:\n",
    "    #print(elem)\n",
    "    for el in elem:\n",
    "        #print(el)\n",
    "        d.append(el.split(':'))\n",
    "    #d.append(elem.split(':'))"
   ]
  },
  {
   "cell_type": "code",
   "execution_count": 5,
   "metadata": {},
   "outputs": [
    {
     "name": "stdout",
     "output_type": "stream",
     "text": [
      "242\n"
     ]
    }
   ],
   "source": [
    "cnt = 0\n",
    "result = []\n",
    "for elem in d:\n",
    "    #print(elem[0])\n",
    "    if (elem[0] == 'byr') or (elem[0] == 'eyr') or (elem[0] == 'hgt') or (elem[0] == 'pid') or (elem[0] == 'hcl') or (elem[0] == 'iyr') or (elem[0] == 'ecl'):\n",
    "        cnt = cnt + 1\n",
    "    if elem[0] == '':\n",
    "        #print('TEST')\n",
    "        if cnt == 7:\n",
    "            result.append(1)\n",
    "        cnt = 0\n",
    "\n",
    "print(sum(result))"
   ]
  },
  {
   "cell_type": "code",
   "execution_count": 6,
   "metadata": {},
   "outputs": [
    {
     "name": "stdout",
     "output_type": "stream",
     "text": [
      "186\n"
     ]
    }
   ],
   "source": [
    "cnt = 0\n",
    "result = []\n",
    "\n",
    "ecl = ['amb','blu','brn','gry','grn','hzl','oth']\n",
    "pattern_hcl = '#[a-f]*[0-9]*'\n",
    "for elem in d:\n",
    "    #print(elem[0])\n",
    "    if (elem[0] == 'byr'):\n",
    "        if (int(elem[1]) >= 1920) and (int(elem[1]) <= 2002):\n",
    "            cnt = cnt + 1\n",
    "    elif (elem[0] == 'eyr'):\n",
    "        if (int(elem[1]) >= 2020) and (int(elem[1]) <= 2030):\n",
    "            cnt = cnt + 1\n",
    "    elif (elem[0] == 'hgt'):\n",
    "        if elem[1][-2:] == 'cm':\n",
    "            if len(elem[1]) == 5:\n",
    "                if (int(elem[1][:3]) >= 150) and (int(elem[1][:3]) <= 193):\n",
    "                    cnt = cnt + 1\n",
    "        elif elem[1][-2:] == 'in':\n",
    "            if (int(elem[1][:2]) >= 59) and (int(elem[1][:2]) <= 76):\n",
    "                cnt = cnt + 1\n",
    "    elif (elem[0] == 'pid'):\n",
    "        if len(elem[1]) == 9:\n",
    "            cnt = cnt + 1\n",
    "    elif (elem[0] == 'hcl'):\n",
    "        if len(elem[1]) == 7:\n",
    "            if re.search(pattern_hcl,elem[1]):\n",
    "                cnt = cnt + 1\n",
    "    elif (elem[0] == 'iyr'):\n",
    "        if (int(elem[1]) >= 2010) and (int(elem[1]) <= 2020):\n",
    "            cnt = cnt +1\n",
    "    elif (elem[0] == 'ecl'):\n",
    "        if [col for col in ecl if col == elem[1]]:            \n",
    "            cnt = cnt + 1\n",
    "    if elem[0] == '':\n",
    "        #print('TEST')\n",
    "        if cnt == 7:\n",
    "            result.append(1)\n",
    "        cnt = 0\n",
    "\n",
    "print(sum(result))"
   ]
  }
 ],
 "metadata": {
  "kernelspec": {
   "display_name": "Python 3",
   "language": "python",
   "name": "python3"
  },
  "language_info": {
   "codemirror_mode": {
    "name": "ipython",
    "version": 3
   },
   "file_extension": ".py",
   "mimetype": "text/x-python",
   "name": "python",
   "nbconvert_exporter": "python",
   "pygments_lexer": "ipython3",
   "version": "3.8.2"
  }
 },
 "nbformat": 4,
 "nbformat_minor": 4
}
