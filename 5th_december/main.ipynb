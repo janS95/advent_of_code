{
 "cells": [
  {
   "cell_type": "code",
   "execution_count": 1,
   "metadata": {},
   "outputs": [],
   "source": [
    "with open('input.txt') as file:\n",
    "    plane = file.readlines()"
   ]
  },
  {
   "cell_type": "code",
   "execution_count": 2,
   "metadata": {},
   "outputs": [],
   "source": [
    "plane = [elem.replace('\\n','') for elem in plane]   \n",
    "\n",
    "plane_bin = [elem.replace('F','0') for elem in plane]\n",
    "plane_bin = [elem.replace('B','1') for elem in plane_bin]\n",
    "plane_bin = [elem.replace('L','0') for elem in plane_bin]\n",
    "plane_bin = [elem.replace('R','1') for elem in plane_bin]"
   ]
  },
  {
   "cell_type": "code",
   "execution_count": 3,
   "metadata": {},
   "outputs": [
    {
     "name": "stdout",
     "output_type": "stream",
     "text": [
      "835\n"
     ]
    }
   ],
   "source": [
    "seat_id = []\n",
    "\n",
    "for elem in plane_bin:\n",
    "    id = int(elem[0:7],2) * 8 + int(elem[7:],2)\n",
    "    seat_id.append(id)\n",
    "   \n",
    "print(max(seat_id))"
   ]
  },
  {
   "cell_type": "code",
   "execution_count": 4,
   "metadata": {},
   "outputs": [],
   "source": [
    "seat_id_sorted = sorted(seat_id)"
   ]
  },
  {
   "cell_type": "code",
   "execution_count": 5,
   "metadata": {},
   "outputs": [
    {
     "name": "stdout",
     "output_type": "stream",
     "text": [
      "649\n"
     ]
    }
   ],
   "source": [
    "for idx in range(0,len(seat_id_sorted)-1):\n",
    "    if seat_id_sorted[idx+1] - seat_id_sorted[idx] > 1:\n",
    "        print(seat_id_sorted[idx]+1)"
   ]
  }
 ],
 "metadata": {
  "kernelspec": {
   "display_name": "Python 3",
   "language": "python",
   "name": "python3"
  },
  "language_info": {
   "codemirror_mode": {
    "name": "ipython",
    "version": 3
   },
   "file_extension": ".py",
   "mimetype": "text/x-python",
   "name": "python",
   "nbconvert_exporter": "python",
   "pygments_lexer": "ipython3",
   "version": "3.8.2"
  }
 },
 "nbformat": 4,
 "nbformat_minor": 4
}
